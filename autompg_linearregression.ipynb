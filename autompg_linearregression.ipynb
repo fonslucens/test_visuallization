{
  "nbformat": 4,
  "nbformat_minor": 0,
  "metadata": {
    "colab": {
      "name": "autompg_linearregression.ipynb",
      "provenance": [],
      "authorship_tag": "ABX9TyP1li0yHxz2LTHDN5xCOBPP",
      "include_colab_link": true
    },
    "kernelspec": {
      "name": "python3",
      "display_name": "Python 3"
    },
    "language_info": {
      "name": "python"
    }
  },
  "cells": [
    {
      "cell_type": "markdown",
      "metadata": {
        "id": "view-in-github",
        "colab_type": "text"
      },
      "source": [
        "<a href=\"https://colab.research.google.com/github/fonslucens/test_visuallization/blob/master/autompg_linearregression.ipynb\" target=\"_parent\"><img src=\"https://colab.research.google.com/assets/colab-badge.svg\" alt=\"Open In Colab\"/></a>"
      ]
    },
    {
      "cell_type": "markdown",
      "metadata": {
        "id": "W2v1YE3PMFqw"
      },
      "source": [
        "## 데이터 로딩"
      ]
    },
    {
      "cell_type": "code",
      "metadata": {
        "colab": {
          "base_uri": "https://localhost:8080/"
        },
        "id": "ZxWPIg7Atzxa",
        "outputId": "d44432f6-9dc9-4d3b-eec3-fe207bd5dc88"
      },
      "source": [
        "import pandas as pd\n",
        "df = pd.read_csv('./auto-mpg.csv', header=None)\n",
        "df.columns = ['mpg','cylinders','displacement','horsepower','weight',\n",
        "              'acceleration','model year','origin','name']\n",
        "df.info()"
      ],
      "execution_count": 2,
      "outputs": [
        {
          "output_type": "stream",
          "text": [
            "<class 'pandas.core.frame.DataFrame'>\n",
            "RangeIndex: 398 entries, 0 to 397\n",
            "Data columns (total 9 columns):\n",
            " #   Column        Non-Null Count  Dtype  \n",
            "---  ------        --------------  -----  \n",
            " 0   mpg           398 non-null    float64\n",
            " 1   cylinders     398 non-null    int64  \n",
            " 2   displacement  398 non-null    float64\n",
            " 3   horsepower    398 non-null    object \n",
            " 4   weight        398 non-null    float64\n",
            " 5   acceleration  398 non-null    float64\n",
            " 6   model year    398 non-null    int64  \n",
            " 7   origin        398 non-null    int64  \n",
            " 8   name          398 non-null    object \n",
            "dtypes: float64(4), int64(3), object(2)\n",
            "memory usage: 28.1+ KB\n"
          ],
          "name": "stdout"
        }
      ]
    },
    {
      "cell_type": "code",
      "metadata": {
        "colab": {
          "base_uri": "https://localhost:8080/",
          "height": 173
        },
        "id": "8vg54_YSug1G",
        "outputId": "1c77d646-c3c2-45eb-90df-7765828a7346"
      },
      "source": [
        "df[['horsepower', 'name']].describe(include='all')"
      ],
      "execution_count": 3,
      "outputs": [
        {
          "output_type": "execute_result",
          "data": {
            "text/html": [
              "<div>\n",
              "<style scoped>\n",
              "    .dataframe tbody tr th:only-of-type {\n",
              "        vertical-align: middle;\n",
              "    }\n",
              "\n",
              "    .dataframe tbody tr th {\n",
              "        vertical-align: top;\n",
              "    }\n",
              "\n",
              "    .dataframe thead th {\n",
              "        text-align: right;\n",
              "    }\n",
              "</style>\n",
              "<table border=\"1\" class=\"dataframe\">\n",
              "  <thead>\n",
              "    <tr style=\"text-align: right;\">\n",
              "      <th></th>\n",
              "      <th>horsepower</th>\n",
              "      <th>name</th>\n",
              "    </tr>\n",
              "  </thead>\n",
              "  <tbody>\n",
              "    <tr>\n",
              "      <th>count</th>\n",
              "      <td>398</td>\n",
              "      <td>398</td>\n",
              "    </tr>\n",
              "    <tr>\n",
              "      <th>unique</th>\n",
              "      <td>94</td>\n",
              "      <td>305</td>\n",
              "    </tr>\n",
              "    <tr>\n",
              "      <th>top</th>\n",
              "      <td>150.0</td>\n",
              "      <td>ford pinto</td>\n",
              "    </tr>\n",
              "    <tr>\n",
              "      <th>freq</th>\n",
              "      <td>22</td>\n",
              "      <td>6</td>\n",
              "    </tr>\n",
              "  </tbody>\n",
              "</table>\n",
              "</div>"
            ],
            "text/plain": [
              "       horsepower        name\n",
              "count         398         398\n",
              "unique         94         305\n",
              "top         150.0  ford pinto\n",
              "freq           22           6"
            ]
          },
          "metadata": {
            "tags": []
          },
          "execution_count": 3
        }
      ]
    },
    {
      "cell_type": "markdown",
      "metadata": {
        "id": "C9POqWkbMksq"
      },
      "source": [
        "## replace()"
      ]
    },
    {
      "cell_type": "code",
      "metadata": {
        "colab": {
          "base_uri": "https://localhost:8080/"
        },
        "id": "foTlqdUavXnB",
        "outputId": "8e6a1956-442f-4876-ac35-a842e717d035"
      },
      "source": [
        "df[['horsepower']].value_counts()"
      ],
      "execution_count": 4,
      "outputs": [
        {
          "output_type": "execute_result",
          "data": {
            "text/plain": [
              "horsepower\n",
              "150.0         22\n",
              "90.00         20\n",
              "88.00         19\n",
              "110.0         18\n",
              "100.0         17\n",
              "              ..\n",
              "142.0          1\n",
              "93.00          1\n",
              "220.0          1\n",
              "138.0          1\n",
              "148.0          1\n",
              "Length: 94, dtype: int64"
            ]
          },
          "metadata": {
            "tags": []
          },
          "execution_count": 4
        }
      ]
    },
    {
      "cell_type": "code",
      "metadata": {
        "id": "anjAmm7vyNEP"
      },
      "source": [
        "# df['horsepower'].astype('float')"
      ],
      "execution_count": 6,
      "outputs": []
    },
    {
      "cell_type": "code",
      "metadata": {
        "colab": {
          "base_uri": "https://localhost:8080/"
        },
        "id": "aKzg9CNmyTmr",
        "outputId": "8486dc92-5f80-4ec3-e2bb-0e87ab394076"
      },
      "source": [
        "df['horsepower'].unique()"
      ],
      "execution_count": 7,
      "outputs": [
        {
          "output_type": "execute_result",
          "data": {
            "text/plain": [
              "array(['130.0', '165.0', '150.0', '140.0', '198.0', '220.0', '215.0',\n",
              "       '225.0', '190.0', '170.0', '160.0', '95.00', '97.00', '85.00',\n",
              "       '88.00', '46.00', '87.00', '90.00', '113.0', '200.0', '210.0',\n",
              "       '193.0', '?', '100.0', '105.0', '175.0', '153.0', '180.0', '110.0',\n",
              "       '72.00', '86.00', '70.00', '76.00', '65.00', '69.00', '60.00',\n",
              "       '80.00', '54.00', '208.0', '155.0', '112.0', '92.00', '145.0',\n",
              "       '137.0', '158.0', '167.0', '94.00', '107.0', '230.0', '49.00',\n",
              "       '75.00', '91.00', '122.0', '67.00', '83.00', '78.00', '52.00',\n",
              "       '61.00', '93.00', '148.0', '129.0', '96.00', '71.00', '98.00',\n",
              "       '115.0', '53.00', '81.00', '79.00', '120.0', '152.0', '102.0',\n",
              "       '108.0', '68.00', '58.00', '149.0', '89.00', '63.00', '48.00',\n",
              "       '66.00', '139.0', '103.0', '125.0', '133.0', '138.0', '135.0',\n",
              "       '142.0', '77.00', '62.00', '132.0', '84.00', '64.00', '74.00',\n",
              "       '116.0', '82.00'], dtype=object)"
            ]
          },
          "metadata": {
            "tags": []
          },
          "execution_count": 7
        }
      ]
    },
    {
      "cell_type": "code",
      "metadata": {
        "colab": {
          "base_uri": "https://localhost:8080/"
        },
        "id": "fovCl72Uyazk",
        "outputId": "eef64569-cad9-4c2c-fcd1-3d0cd7e712df"
      },
      "source": [
        "df['horsepower'].replace()"
      ],
      "execution_count": 8,
      "outputs": [
        {
          "output_type": "execute_result",
          "data": {
            "text/plain": [
              "0      130.0\n",
              "1      165.0\n",
              "2      150.0\n",
              "3      150.0\n",
              "4      140.0\n",
              "       ...  \n",
              "393    86.00\n",
              "394    52.00\n",
              "395    84.00\n",
              "396    79.00\n",
              "397    82.00\n",
              "Name: horsepower, Length: 398, dtype: object"
            ]
          },
          "metadata": {
            "tags": []
          },
          "execution_count": 8
        }
      ]
    },
    {
      "cell_type": "code",
      "metadata": {
        "colab": {
          "base_uri": "https://localhost:8080/"
        },
        "id": "_8LhW-TiywGC",
        "outputId": "956864ab-e3f2-4e10-eae7-f252e839b2f0"
      },
      "source": [
        "df_horsepower=df['horsepower'].replace(to_replace='?', value=None, inplace=False)\n",
        "df_horsepower.unique()"
      ],
      "execution_count": 9,
      "outputs": [
        {
          "output_type": "execute_result",
          "data": {
            "text/plain": [
              "array(['130.0', '165.0', '150.0', '140.0', '198.0', '220.0', '215.0',\n",
              "       '225.0', '190.0', '170.0', '160.0', '95.00', '97.00', '85.00',\n",
              "       '88.00', '46.00', '87.00', '90.00', '113.0', '200.0', '210.0',\n",
              "       '193.0', '100.0', '105.0', '175.0', '153.0', '180.0', '110.0',\n",
              "       '72.00', '86.00', '70.00', '76.00', '65.00', '69.00', '60.00',\n",
              "       '80.00', '54.00', '208.0', '155.0', '112.0', '92.00', '145.0',\n",
              "       '137.0', '158.0', '167.0', '94.00', '107.0', '230.0', '49.00',\n",
              "       '75.00', '91.00', '122.0', '67.00', '83.00', '78.00', '52.00',\n",
              "       '61.00', '93.00', '148.0', '129.0', '96.00', '71.00', '98.00',\n",
              "       '115.0', '53.00', '81.00', '79.00', '120.0', '152.0', '102.0',\n",
              "       '108.0', '68.00', '58.00', '149.0', '89.00', '63.00', '48.00',\n",
              "       '66.00', '139.0', '103.0', '125.0', '133.0', '138.0', '135.0',\n",
              "       '142.0', '77.00', '62.00', '132.0', '84.00', '64.00', '74.00',\n",
              "       '116.0', '82.00'], dtype=object)"
            ]
          },
          "metadata": {
            "tags": []
          },
          "execution_count": 9
        }
      ]
    },
    {
      "cell_type": "code",
      "metadata": {
        "id": "Wy-SdXQXzsXJ"
      },
      "source": [
        "df_horsepower = df_horsepower.astype('float')"
      ],
      "execution_count": 10,
      "outputs": []
    },
    {
      "cell_type": "code",
      "metadata": {
        "colab": {
          "base_uri": "https://localhost:8080/"
        },
        "id": "S6hBAu4D03iW",
        "outputId": "b7cded9d-c7bb-4542-a568-e3e1f0e13f6a"
      },
      "source": [
        "df_horsepower.mean()"
      ],
      "execution_count": 11,
      "outputs": [
        {
          "output_type": "execute_result",
          "data": {
            "text/plain": [
              "104.178391959799"
            ]
          },
          "metadata": {
            "tags": []
          },
          "execution_count": 11
        }
      ]
    },
    {
      "cell_type": "code",
      "metadata": {
        "colab": {
          "base_uri": "https://localhost:8080/"
        },
        "id": "9-h_xt2c1Ax9",
        "outputId": "3a0a8777-d065-4c24-d45f-7c85c304da91"
      },
      "source": [
        "df['horsepower'] = df_horsepower.fillna(104)\n",
        "df.info()"
      ],
      "execution_count": 12,
      "outputs": [
        {
          "output_type": "stream",
          "text": [
            "<class 'pandas.core.frame.DataFrame'>\n",
            "RangeIndex: 398 entries, 0 to 397\n",
            "Data columns (total 9 columns):\n",
            " #   Column        Non-Null Count  Dtype  \n",
            "---  ------        --------------  -----  \n",
            " 0   mpg           398 non-null    float64\n",
            " 1   cylinders     398 non-null    int64  \n",
            " 2   displacement  398 non-null    float64\n",
            " 3   horsepower    398 non-null    float64\n",
            " 4   weight        398 non-null    float64\n",
            " 5   acceleration  398 non-null    float64\n",
            " 6   model year    398 non-null    int64  \n",
            " 7   origin        398 non-null    int64  \n",
            " 8   name          398 non-null    object \n",
            "dtypes: float64(5), int64(3), object(1)\n",
            "memory usage: 28.1+ KB\n"
          ],
          "name": "stdout"
        }
      ]
    },
    {
      "cell_type": "code",
      "metadata": {
        "colab": {
          "base_uri": "https://localhost:8080/"
        },
        "id": "TJlHhuMl1td8",
        "outputId": "5db08983-0819-446e-dff2-12ee7a623549"
      },
      "source": [
        "df['name'].unique"
      ],
      "execution_count": 13,
      "outputs": [
        {
          "output_type": "execute_result",
          "data": {
            "text/plain": [
              "<bound method Series.unique of 0      chevrolet chevelle malibu\n",
              "1              buick skylark 320\n",
              "2             plymouth satellite\n",
              "3                  amc rebel sst\n",
              "4                    ford torino\n",
              "                 ...            \n",
              "393              ford mustang gl\n",
              "394                    vw pickup\n",
              "395                dodge rampage\n",
              "396                  ford ranger\n",
              "397                   chevy s-10\n",
              "Name: name, Length: 398, dtype: object>"
            ]
          },
          "metadata": {
            "tags": []
          },
          "execution_count": 13
        }
      ]
    },
    {
      "cell_type": "code",
      "metadata": {
        "colab": {
          "base_uri": "https://localhost:8080/"
        },
        "id": "WyvagNvo14X8",
        "outputId": "ac07c050-4437-4314-ac83-13ad4ae2321c"
      },
      "source": [
        "df['origin']"
      ],
      "execution_count": 14,
      "outputs": [
        {
          "output_type": "execute_result",
          "data": {
            "text/plain": [
              "0      1\n",
              "1      1\n",
              "2      1\n",
              "3      1\n",
              "4      1\n",
              "      ..\n",
              "393    1\n",
              "394    2\n",
              "395    1\n",
              "396    1\n",
              "397    1\n",
              "Name: origin, Length: 398, dtype: int64"
            ]
          },
          "metadata": {
            "tags": []
          },
          "execution_count": 14
        }
      ]
    },
    {
      "cell_type": "code",
      "metadata": {
        "colab": {
          "base_uri": "https://localhost:8080/",
          "height": 204
        },
        "id": "8Z3pOm9J2mP6",
        "outputId": "488ed226-d4de-49fb-b34d-a9fae8904645"
      },
      "source": [
        "df.head()"
      ],
      "execution_count": 15,
      "outputs": [
        {
          "output_type": "execute_result",
          "data": {
            "text/html": [
              "<div>\n",
              "<style scoped>\n",
              "    .dataframe tbody tr th:only-of-type {\n",
              "        vertical-align: middle;\n",
              "    }\n",
              "\n",
              "    .dataframe tbody tr th {\n",
              "        vertical-align: top;\n",
              "    }\n",
              "\n",
              "    .dataframe thead th {\n",
              "        text-align: right;\n",
              "    }\n",
              "</style>\n",
              "<table border=\"1\" class=\"dataframe\">\n",
              "  <thead>\n",
              "    <tr style=\"text-align: right;\">\n",
              "      <th></th>\n",
              "      <th>mpg</th>\n",
              "      <th>cylinders</th>\n",
              "      <th>displacement</th>\n",
              "      <th>horsepower</th>\n",
              "      <th>weight</th>\n",
              "      <th>acceleration</th>\n",
              "      <th>model year</th>\n",
              "      <th>origin</th>\n",
              "      <th>name</th>\n",
              "    </tr>\n",
              "  </thead>\n",
              "  <tbody>\n",
              "    <tr>\n",
              "      <th>0</th>\n",
              "      <td>18.0</td>\n",
              "      <td>8</td>\n",
              "      <td>307.0</td>\n",
              "      <td>130.0</td>\n",
              "      <td>3504.0</td>\n",
              "      <td>12.0</td>\n",
              "      <td>70</td>\n",
              "      <td>1</td>\n",
              "      <td>chevrolet chevelle malibu</td>\n",
              "    </tr>\n",
              "    <tr>\n",
              "      <th>1</th>\n",
              "      <td>15.0</td>\n",
              "      <td>8</td>\n",
              "      <td>350.0</td>\n",
              "      <td>165.0</td>\n",
              "      <td>3693.0</td>\n",
              "      <td>11.5</td>\n",
              "      <td>70</td>\n",
              "      <td>1</td>\n",
              "      <td>buick skylark 320</td>\n",
              "    </tr>\n",
              "    <tr>\n",
              "      <th>2</th>\n",
              "      <td>18.0</td>\n",
              "      <td>8</td>\n",
              "      <td>318.0</td>\n",
              "      <td>150.0</td>\n",
              "      <td>3436.0</td>\n",
              "      <td>11.0</td>\n",
              "      <td>70</td>\n",
              "      <td>1</td>\n",
              "      <td>plymouth satellite</td>\n",
              "    </tr>\n",
              "    <tr>\n",
              "      <th>3</th>\n",
              "      <td>16.0</td>\n",
              "      <td>8</td>\n",
              "      <td>304.0</td>\n",
              "      <td>150.0</td>\n",
              "      <td>3433.0</td>\n",
              "      <td>12.0</td>\n",
              "      <td>70</td>\n",
              "      <td>1</td>\n",
              "      <td>amc rebel sst</td>\n",
              "    </tr>\n",
              "    <tr>\n",
              "      <th>4</th>\n",
              "      <td>17.0</td>\n",
              "      <td>8</td>\n",
              "      <td>302.0</td>\n",
              "      <td>140.0</td>\n",
              "      <td>3449.0</td>\n",
              "      <td>10.5</td>\n",
              "      <td>70</td>\n",
              "      <td>1</td>\n",
              "      <td>ford torino</td>\n",
              "    </tr>\n",
              "  </tbody>\n",
              "</table>\n",
              "</div>"
            ],
            "text/plain": [
              "    mpg  cylinders  displacement  ...  model year  origin                       name\n",
              "0  18.0          8         307.0  ...          70       1  chevrolet chevelle malibu\n",
              "1  15.0          8         350.0  ...          70       1          buick skylark 320\n",
              "2  18.0          8         318.0  ...          70       1         plymouth satellite\n",
              "3  16.0          8         304.0  ...          70       1              amc rebel sst\n",
              "4  17.0          8         302.0  ...          70       1                ford torino\n",
              "\n",
              "[5 rows x 9 columns]"
            ]
          },
          "metadata": {
            "tags": []
          },
          "execution_count": 15
        }
      ]
    },
    {
      "cell_type": "markdown",
      "metadata": {
        "id": "ilIK85lnLzjj"
      },
      "source": [
        "##분류와 연속 컬럼 구분"
      ]
    },
    {
      "cell_type": "code",
      "metadata": {
        "id": "pN4-Uyuh2pf7",
        "colab": {
          "base_uri": "https://localhost:8080/",
          "height": 297
        },
        "outputId": "888043b9-731c-4241-ed7a-0a5eb20000b5"
      },
      "source": [
        "df.head(8)"
      ],
      "execution_count": 16,
      "outputs": [
        {
          "output_type": "execute_result",
          "data": {
            "text/html": [
              "<div>\n",
              "<style scoped>\n",
              "    .dataframe tbody tr th:only-of-type {\n",
              "        vertical-align: middle;\n",
              "    }\n",
              "\n",
              "    .dataframe tbody tr th {\n",
              "        vertical-align: top;\n",
              "    }\n",
              "\n",
              "    .dataframe thead th {\n",
              "        text-align: right;\n",
              "    }\n",
              "</style>\n",
              "<table border=\"1\" class=\"dataframe\">\n",
              "  <thead>\n",
              "    <tr style=\"text-align: right;\">\n",
              "      <th></th>\n",
              "      <th>mpg</th>\n",
              "      <th>cylinders</th>\n",
              "      <th>displacement</th>\n",
              "      <th>horsepower</th>\n",
              "      <th>weight</th>\n",
              "      <th>acceleration</th>\n",
              "      <th>model year</th>\n",
              "      <th>origin</th>\n",
              "      <th>name</th>\n",
              "    </tr>\n",
              "  </thead>\n",
              "  <tbody>\n",
              "    <tr>\n",
              "      <th>0</th>\n",
              "      <td>18.0</td>\n",
              "      <td>8</td>\n",
              "      <td>307.0</td>\n",
              "      <td>130.0</td>\n",
              "      <td>3504.0</td>\n",
              "      <td>12.0</td>\n",
              "      <td>70</td>\n",
              "      <td>1</td>\n",
              "      <td>chevrolet chevelle malibu</td>\n",
              "    </tr>\n",
              "    <tr>\n",
              "      <th>1</th>\n",
              "      <td>15.0</td>\n",
              "      <td>8</td>\n",
              "      <td>350.0</td>\n",
              "      <td>165.0</td>\n",
              "      <td>3693.0</td>\n",
              "      <td>11.5</td>\n",
              "      <td>70</td>\n",
              "      <td>1</td>\n",
              "      <td>buick skylark 320</td>\n",
              "    </tr>\n",
              "    <tr>\n",
              "      <th>2</th>\n",
              "      <td>18.0</td>\n",
              "      <td>8</td>\n",
              "      <td>318.0</td>\n",
              "      <td>150.0</td>\n",
              "      <td>3436.0</td>\n",
              "      <td>11.0</td>\n",
              "      <td>70</td>\n",
              "      <td>1</td>\n",
              "      <td>plymouth satellite</td>\n",
              "    </tr>\n",
              "    <tr>\n",
              "      <th>3</th>\n",
              "      <td>16.0</td>\n",
              "      <td>8</td>\n",
              "      <td>304.0</td>\n",
              "      <td>150.0</td>\n",
              "      <td>3433.0</td>\n",
              "      <td>12.0</td>\n",
              "      <td>70</td>\n",
              "      <td>1</td>\n",
              "      <td>amc rebel sst</td>\n",
              "    </tr>\n",
              "    <tr>\n",
              "      <th>4</th>\n",
              "      <td>17.0</td>\n",
              "      <td>8</td>\n",
              "      <td>302.0</td>\n",
              "      <td>140.0</td>\n",
              "      <td>3449.0</td>\n",
              "      <td>10.5</td>\n",
              "      <td>70</td>\n",
              "      <td>1</td>\n",
              "      <td>ford torino</td>\n",
              "    </tr>\n",
              "    <tr>\n",
              "      <th>5</th>\n",
              "      <td>15.0</td>\n",
              "      <td>8</td>\n",
              "      <td>429.0</td>\n",
              "      <td>198.0</td>\n",
              "      <td>4341.0</td>\n",
              "      <td>10.0</td>\n",
              "      <td>70</td>\n",
              "      <td>1</td>\n",
              "      <td>ford galaxie 500</td>\n",
              "    </tr>\n",
              "    <tr>\n",
              "      <th>6</th>\n",
              "      <td>14.0</td>\n",
              "      <td>8</td>\n",
              "      <td>454.0</td>\n",
              "      <td>220.0</td>\n",
              "      <td>4354.0</td>\n",
              "      <td>9.0</td>\n",
              "      <td>70</td>\n",
              "      <td>1</td>\n",
              "      <td>chevrolet impala</td>\n",
              "    </tr>\n",
              "    <tr>\n",
              "      <th>7</th>\n",
              "      <td>14.0</td>\n",
              "      <td>8</td>\n",
              "      <td>440.0</td>\n",
              "      <td>215.0</td>\n",
              "      <td>4312.0</td>\n",
              "      <td>8.5</td>\n",
              "      <td>70</td>\n",
              "      <td>1</td>\n",
              "      <td>plymouth fury iii</td>\n",
              "    </tr>\n",
              "  </tbody>\n",
              "</table>\n",
              "</div>"
            ],
            "text/plain": [
              "    mpg  cylinders  displacement  ...  model year  origin                       name\n",
              "0  18.0          8         307.0  ...          70       1  chevrolet chevelle malibu\n",
              "1  15.0          8         350.0  ...          70       1          buick skylark 320\n",
              "2  18.0          8         318.0  ...          70       1         plymouth satellite\n",
              "3  16.0          8         304.0  ...          70       1              amc rebel sst\n",
              "4  17.0          8         302.0  ...          70       1                ford torino\n",
              "5  15.0          8         429.0  ...          70       1           ford galaxie 500\n",
              "6  14.0          8         454.0  ...          70       1           chevrolet impala\n",
              "7  14.0          8         440.0  ...          70       1          plymouth fury iii\n",
              "\n",
              "[8 rows x 9 columns]"
            ]
          },
          "metadata": {
            "tags": []
          },
          "execution_count": 16
        }
      ]
    },
    {
      "cell_type": "markdown",
      "metadata": {
        "id": "-TWjrGdkM_QX"
      },
      "source": [
        "### check columns\n",
        "- 연속형 : displacement, horesepower, weight, acceleration\n",
        "- 분류형 : model year, name, mpg, cylinders, origin"
      ]
    },
    {
      "cell_type": "code",
      "metadata": {
        "colab": {
          "base_uri": "https://localhost:8080/"
        },
        "id": "02Id11zdM3rA",
        "outputId": "cd47bd01-effc-4b7d-d722-7fa927223eec"
      },
      "source": [
        "df['mpg'].describe()"
      ],
      "execution_count": 18,
      "outputs": [
        {
          "output_type": "execute_result",
          "data": {
            "text/plain": [
              "count    398.000000\n",
              "mean      23.514573\n",
              "std        7.815984\n",
              "min        9.000000\n",
              "25%       17.500000\n",
              "50%       23.000000\n",
              "75%       29.000000\n",
              "max       46.600000\n",
              "Name: mpg, dtype: float64"
            ]
          },
          "metadata": {
            "tags": []
          },
          "execution_count": 18
        }
      ]
    },
    {
      "cell_type": "code",
      "metadata": {
        "colab": {
          "base_uri": "https://localhost:8080/"
        },
        "id": "KaJn09VQOk9Y",
        "outputId": "cb79f10c-82f5-495d-9869-c58d7315c6f2"
      },
      "source": [
        "df['mpg'].value_counts()"
      ],
      "execution_count": 19,
      "outputs": [
        {
          "output_type": "execute_result",
          "data": {
            "text/plain": [
              "13.0    20\n",
              "14.0    19\n",
              "18.0    17\n",
              "15.0    16\n",
              "26.0    14\n",
              "        ..\n",
              "34.2     1\n",
              "38.1     1\n",
              "37.2     1\n",
              "32.1     1\n",
              "32.7     1\n",
              "Name: mpg, Length: 129, dtype: int64"
            ]
          },
          "metadata": {
            "tags": []
          },
          "execution_count": 19
        }
      ]
    },
    {
      "cell_type": "code",
      "metadata": {
        "colab": {
          "base_uri": "https://localhost:8080/"
        },
        "id": "tsITWSxqPKMK",
        "outputId": "0d499625-08ef-4876-ed54-aee6748af7b9"
      },
      "source": [
        "df['cylinders'].describe()"
      ],
      "execution_count": 20,
      "outputs": [
        {
          "output_type": "execute_result",
          "data": {
            "text/plain": [
              "count    398.000000\n",
              "mean       5.454774\n",
              "std        1.701004\n",
              "min        3.000000\n",
              "25%        4.000000\n",
              "50%        4.000000\n",
              "75%        8.000000\n",
              "max        8.000000\n",
              "Name: cylinders, dtype: float64"
            ]
          },
          "metadata": {
            "tags": []
          },
          "execution_count": 20
        }
      ]
    },
    {
      "cell_type": "code",
      "metadata": {
        "colab": {
          "base_uri": "https://localhost:8080/"
        },
        "id": "wR7wtRfFPzhR",
        "outputId": "3a7f2b43-3e6f-481b-edcd-5dc8dfe82160"
      },
      "source": [
        "df['cylinders'].value_counts()"
      ],
      "execution_count": 21,
      "outputs": [
        {
          "output_type": "execute_result",
          "data": {
            "text/plain": [
              "4    204\n",
              "8    103\n",
              "6     84\n",
              "3      4\n",
              "5      3\n",
              "Name: cylinders, dtype: int64"
            ]
          },
          "metadata": {
            "tags": []
          },
          "execution_count": 21
        }
      ]
    },
    {
      "cell_type": "code",
      "metadata": {
        "colab": {
          "base_uri": "https://localhost:8080/"
        },
        "id": "ZV_ik9UVP2Ax",
        "outputId": "159f547f-6b7d-4a85-d894-32c836e0c2b2"
      },
      "source": [
        "df['origin'].value_counts()"
      ],
      "execution_count": 22,
      "outputs": [
        {
          "output_type": "execute_result",
          "data": {
            "text/plain": [
              "1    249\n",
              "3     79\n",
              "2     70\n",
              "Name: origin, dtype: int64"
            ]
          },
          "metadata": {
            "tags": []
          },
          "execution_count": 22
        }
      ]
    },
    {
      "cell_type": "markdown",
      "metadata": {
        "id": "I9ZXg01BQL-Y"
      },
      "source": [
        "## 정규화 단계"
      ]
    },
    {
      "cell_type": "code",
      "metadata": {
        "id": "zAJbFpJKQGeZ"
      },
      "source": [
        "Y = df['mpg']\n",
        "X_continue = df[['displacement', 'horsepower', 'weight', 'acceleration']]\n",
        "X_category = df[['model year', 'cylinders', 'origin']]"
      ],
      "execution_count": 30,
      "outputs": []
    },
    {
      "cell_type": "code",
      "metadata": {
        "id": "a1mjs1y4XiAQ"
      },
      "source": [
        "from sklearn import preprocessing"
      ],
      "execution_count": 31,
      "outputs": []
    },
    {
      "cell_type": "code",
      "metadata": {
        "colab": {
          "base_uri": "https://localhost:8080/"
        },
        "id": "F1IZVbfEYrfP",
        "outputId": "b43c75ff-b110-454b-e3fe-241a8a1709c4"
      },
      "source": [
        "scaler = preprocessing.StandardScaler()\n",
        "type(scaler)"
      ],
      "execution_count": 32,
      "outputs": [
        {
          "output_type": "execute_result",
          "data": {
            "text/plain": [
              "sklearn.preprocessing._data.StandardScaler"
            ]
          },
          "metadata": {
            "tags": []
          },
          "execution_count": 32
        }
      ]
    },
    {
      "cell_type": "code",
      "metadata": {
        "colab": {
          "base_uri": "https://localhost:8080/"
        },
        "id": "gpsrMffwY8_f",
        "outputId": "d386e819-424a-495f-9306-a1d134ddb816"
      },
      "source": [
        "scaler.fit(X_continue)"
      ],
      "execution_count": 33,
      "outputs": [
        {
          "output_type": "execute_result",
          "data": {
            "text/plain": [
              "StandardScaler(copy=True, with_mean=True, with_std=True)"
            ]
          },
          "metadata": {
            "tags": []
          },
          "execution_count": 33
        }
      ]
    },
    {
      "cell_type": "code",
      "metadata": {
        "id": "U8zt8N_8ZeAd"
      },
      "source": [
        "X = scaler.transform(X_continue)"
      ],
      "execution_count": 34,
      "outputs": []
    },
    {
      "cell_type": "code",
      "metadata": {
        "id": "9Fm22eFBZv6k"
      },
      "source": [
        "from sklearn.linear_model import LinearRegression"
      ],
      "execution_count": 35,
      "outputs": []
    },
    {
      "cell_type": "code",
      "metadata": {
        "colab": {
          "base_uri": "https://localhost:8080/"
        },
        "id": "-KM8yxYlaJVT",
        "outputId": "8b2758e2-e1a7-4966-a4d4-4423dcf26749"
      },
      "source": [
        "lr = LinearRegression()\n",
        "type(lr)"
      ],
      "execution_count": 36,
      "outputs": [
        {
          "output_type": "execute_result",
          "data": {
            "text/plain": [
              "sklearn.linear_model._base.LinearRegression"
            ]
          },
          "metadata": {
            "tags": []
          },
          "execution_count": 36
        }
      ]
    },
    {
      "cell_type": "code",
      "metadata": {
        "colab": {
          "base_uri": "https://localhost:8080/"
        },
        "id": "mecvhDxxaUpT",
        "outputId": "d96bccf5-b48d-42b2-e5c2-785c7727d7e9"
      },
      "source": [
        "lr.fit(X, Y)"
      ],
      "execution_count": 38,
      "outputs": [
        {
          "output_type": "execute_result",
          "data": {
            "text/plain": [
              "LinearRegression(copy_X=True, fit_intercept=True, n_jobs=None, normalize=False)"
            ]
          },
          "metadata": {
            "tags": []
          },
          "execution_count": 38
        }
      ]
    },
    {
      "cell_type": "code",
      "metadata": {
        "colab": {
          "base_uri": "https://localhost:8080/"
        },
        "id": "ueQCq2CVabtj",
        "outputId": "a3f66d23-ea05-46b9-e30a-191b6ff91f85"
      },
      "source": [
        "lr.score(X,Y)"
      ],
      "execution_count": 39,
      "outputs": [
        {
          "output_type": "execute_result",
          "data": {
            "text/plain": [
              "0.7061364273740109"
            ]
          },
          "metadata": {
            "tags": []
          },
          "execution_count": 39
        }
      ]
    },
    {
      "cell_type": "code",
      "metadata": {
        "id": "qZF8WsgSawh3"
      },
      "source": [
        ""
      ],
      "execution_count": null,
      "outputs": []
    }
  ]
}